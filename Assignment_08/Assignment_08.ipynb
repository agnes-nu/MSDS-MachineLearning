{
  "nbformat": 4,
  "nbformat_minor": 0,
  "metadata": {
    "colab": {
      "name": "Assignment_08.ipynb",
      "version": "0.3.2",
      "provenance": [],
      "collapsed_sections": [],
      "toc_visible": true,
      "include_colab_link": true
    },
    "kernelspec": {
      "display_name": "Python 3",
      "language": "python",
      "name": "python3"
    }
  },
  "cells": [
    {
      "cell_type": "markdown",
      "metadata": {
        "id": "view-in-github",
        "colab_type": "text"
      },
      "source": [
        "<a href=\"https://colab.research.google.com/github/bmoretz/MSDS-MachineLearning/blob/master/Assignment_08/Assignment_08.ipynb\" target=\"_parent\"><img src=\"https://colab.research.google.com/assets/colab-badge.svg\" alt=\"Open In Colab\"/></a>"
      ]
    },
    {
      "metadata": {
        "id": "sBnJGP7kvo9r",
        "colab_type": "text"
      },
      "cell_type": "markdown",
      "source": [
        "# Workspace Initialization"
      ]
    },
    {
      "metadata": {
        "id": "7RN7Fkvg5K5d",
        "colab_type": "text"
      },
      "cell_type": "markdown",
      "source": [
        "## Libraries & Standard Setup"
      ]
    },
    {
      "metadata": {
        "id": "4-e938y6g5aD",
        "colab_type": "code",
        "colab": {}
      },
      "cell_type": "code",
      "source": [
        "!pip install -U -q PyDrive"
      ],
      "execution_count": 0,
      "outputs": []
    },
    {
      "metadata": {
        "id": "qd7U8ykV0Yz0",
        "colab_type": "code",
        "colab": {}
      },
      "cell_type": "code",
      "source": [
        "%matplotlib inline\n",
        "\n",
        "import os\n",
        "import io\n",
        "\n",
        "# Core\n",
        "import pandas as pd\n",
        "import numpy as np\n",
        "\n",
        "# Data\n",
        "import json\n",
        "from collections import defaultdict\n",
        "\n",
        "# Visuals\n",
        "import matplotlib\n",
        "import matplotlib.pyplot as plt\n",
        "from matplotlib.pyplot import imshow\n",
        "import seaborn as sns\n",
        "\n",
        "plt.rcParams['axes.labelsize'] = 14\n",
        "plt.rcParams['xtick.labelsize'] = 12\n",
        "plt.rcParams['ytick.labelsize'] = 12\n",
        "\n",
        "# Text\n",
        "import re  # regular expressions\n",
        "\n",
        "# Url\n",
        "import urllib.parse\n",
        "\n",
        "# Display Images\n",
        "from PIL import Image, ImageFilter\n",
        "\n",
        "# IPython display\n",
        "from IPython.display import display\n",
        "\n",
        "# Loading Zip Files\n",
        "import zipfile\n",
        "\n",
        "# Working with images\n",
        "import cv2\n",
        "\n",
        "# Progress Bar (for long processes)\n",
        "from tqdm import tqdm"
      ],
      "execution_count": 0,
      "outputs": []
    },
    {
      "metadata": {
        "id": "kSK_OCczKNiH",
        "colab_type": "code",
        "colab": {}
      },
      "cell_type": "code",
      "source": [
        "!pip install -U -q chakin"
      ],
      "execution_count": 0,
      "outputs": []
    },
    {
      "metadata": {
        "id": "qULKb8UEuv_q",
        "colab_type": "code",
        "colab": {}
      },
      "cell_type": "code",
      "source": [
        "import tensorflow as tf\n",
        "import time\n",
        "import chakin"
      ],
      "execution_count": 0,
      "outputs": []
    },
    {
      "metadata": {
        "id": "HB1BMupUKi2I",
        "colab_type": "text"
      },
      "cell_type": "markdown",
      "source": [
        "*lists available indices in English*"
      ]
    },
    {
      "metadata": {
        "id": "YgfjTeViKeOi",
        "colab_type": "code",
        "colab": {
          "base_uri": "https://localhost:8080/",
          "height": 476
        },
        "outputId": "a9fe7938-dc72-43ed-fa3a-4b634bf0ecb9"
      },
      "cell_type": "code",
      "source": [
        "chakin.search(lang='English')"
      ],
      "execution_count": 26,
      "outputs": [
        {
          "output_type": "stream",
          "text": [
            "                   Name  Dimension                     Corpus VocabularySize  \\\n",
            "2          fastText(en)        300                  Wikipedia           2.5M   \n",
            "11         GloVe.6B.50d         50  Wikipedia+Gigaword 5 (6B)           400K   \n",
            "12        GloVe.6B.100d        100  Wikipedia+Gigaword 5 (6B)           400K   \n",
            "13        GloVe.6B.200d        200  Wikipedia+Gigaword 5 (6B)           400K   \n",
            "14        GloVe.6B.300d        300  Wikipedia+Gigaword 5 (6B)           400K   \n",
            "15       GloVe.42B.300d        300          Common Crawl(42B)           1.9M   \n",
            "16      GloVe.840B.300d        300         Common Crawl(840B)           2.2M   \n",
            "17    GloVe.Twitter.25d         25               Twitter(27B)           1.2M   \n",
            "18    GloVe.Twitter.50d         50               Twitter(27B)           1.2M   \n",
            "19   GloVe.Twitter.100d        100               Twitter(27B)           1.2M   \n",
            "20   GloVe.Twitter.200d        200               Twitter(27B)           1.2M   \n",
            "21  word2vec.GoogleNews        300          Google News(100B)           3.0M   \n",
            "\n",
            "      Method Language    Author  \n",
            "2   fastText  English  Facebook  \n",
            "11     GloVe  English  Stanford  \n",
            "12     GloVe  English  Stanford  \n",
            "13     GloVe  English  Stanford  \n",
            "14     GloVe  English  Stanford  \n",
            "15     GloVe  English  Stanford  \n",
            "16     GloVe  English  Stanford  \n",
            "17     GloVe  English  Stanford  \n",
            "18     GloVe  English  Stanford  \n",
            "19     GloVe  English  Stanford  \n",
            "20     GloVe  English  Stanford  \n",
            "21  word2vec  English    Google  \n"
          ],
          "name": "stdout"
        }
      ]
    },
    {
      "metadata": {
        "id": "5dMHt_ay2-2X",
        "colab_type": "text"
      },
      "cell_type": "markdown",
      "source": [
        "## Globals"
      ]
    },
    {
      "metadata": {
        "id": "J6LLaNxYMTr8",
        "colab_type": "code",
        "colab": {}
      },
      "cell_type": "code",
      "source": [
        "# To make output stable across runs\n",
        "def reset_graph(seed= RANDOM_SEED):\n",
        "    tf.reset_default_graph()\n",
        "    tf.set_random_seed(seed)\n",
        "    np.random.seed(seed)"
      ],
      "execution_count": 0,
      "outputs": []
    },
    {
      "metadata": {
        "id": "dFsyVgdVKt8R",
        "colab_type": "text"
      },
      "cell_type": "markdown",
      "source": [
        "- Specify English embeddings file to download and install by index number, number of dimensions, and subfoder name\n",
        "- Note that GloVe 50-, 100-, 200-, and 300-dimensional folders are downloaded with a single zip download"
      ]
    },
    {
      "metadata": {
        "id": "DE6d4wBwToYm",
        "colab_type": "code",
        "colab": {}
      },
      "cell_type": "code",
      "source": [
        "RANDOM_SEED = 42\n",
        "\n",
        "CHAKIN_INDEX = 11\n",
        "NUMBER_OF_DIMENSIONS = 50\n",
        "SUBFOLDER_NAME = \"gloVe.6B\"\n",
        "\n",
        "EMBEDDINGS_FOLDER = \"/content/drive/My Drive/datasets/movie_reviews/embeddings/gloVe.6B/\"\n",
        "EMBEDDINGS_FILE_50 = \"glove.6B.50d.txt\"\n",
        "EMBEDDINGS_FILE_100 = \"glove.6B.50d.txt\""
      ],
      "execution_count": 0,
      "outputs": []
    },
    {
      "metadata": {
        "id": "BE-2wIPZMag4",
        "colab_type": "text"
      },
      "cell_type": "markdown",
      "source": [
        "- No stopword removal"
      ]
    },
    {
      "metadata": {
        "id": "CjAnhG18MZEK",
        "colab_type": "code",
        "colab": {}
      },
      "cell_type": "code",
      "source": [
        "REMOVE_STOPWORDS = False"
      ],
      "execution_count": 0,
      "outputs": []
    },
    {
      "metadata": {
        "id": "zz_9Q_odMf7X",
        "colab_type": "text"
      },
      "cell_type": "markdown",
      "source": [
        "- Specify desired size of pre-defined embedding vocabulary"
      ]
    },
    {
      "metadata": {
        "id": "swCjAzB-MeK_",
        "colab_type": "code",
        "colab": {}
      },
      "cell_type": "code",
      "source": [
        "EVOCABSIZE = 10000"
      ],
      "execution_count": 0,
      "outputs": []
    },
    {
      "metadata": {
        "id": "p94aNZpc-c46",
        "colab_type": "text"
      },
      "cell_type": "markdown",
      "source": [
        "Function to make output stable across runs."
      ]
    },
    {
      "metadata": {
        "id": "kLJPGcAB-Zkp",
        "colab_type": "code",
        "colab": {}
      },
      "cell_type": "code",
      "source": [
        "def reset_graph(seed= RANDOM_SEED):\n",
        "    tf.reset_default_graph()\n",
        "    tf.set_random_seed(seed)\n",
        "    np.random.seed(seed)"
      ],
      "execution_count": 0,
      "outputs": []
    },
    {
      "metadata": {
        "id": "9QgN3nvPvzkD",
        "colab_type": "text"
      },
      "cell_type": "markdown",
      "source": [
        "# Project Dataset"
      ]
    },
    {
      "metadata": {
        "id": "v2lhUWKH2fzP",
        "colab_type": "text"
      },
      "cell_type": "markdown",
      "source": [
        "## Embeddings Dataset"
      ]
    },
    {
      "metadata": {
        "id": "xd1fKDr9JZPy",
        "colab_type": "text"
      },
      "cell_type": "markdown",
      "source": [
        "Load the \"movie reviews\" dataset from mounted drive."
      ]
    },
    {
      "metadata": {
        "id": "GDCBmh7UPVI0",
        "colab_type": "code",
        "outputId": "2b36c35e-e8de-485a-9050-b6db3ec40dba",
        "colab": {
          "base_uri": "https://localhost:8080/",
          "height": 54
        }
      },
      "cell_type": "code",
      "source": [
        "from google.colab import drive\n",
        "drive.mount('/content/drive')"
      ],
      "execution_count": 34,
      "outputs": [
        {
          "output_type": "stream",
          "text": [
            "Drive already mounted at /content/drive; to attempt to forcibly remount, call drive.mount(\"/content/drive\", force_remount=True).\n"
          ],
          "name": "stdout"
        }
      ]
    },
    {
      "metadata": {
        "id": "9JFswvH6kP-g",
        "colab_type": "text"
      },
      "cell_type": "markdown",
      "source": [
        "Utility function for loading embeddings.\n",
        "\n",
        "- Creates the Python defaultdict dictionary **word_to_embedding_dict** for the requested pre-trained word embeddings\n",
        "\n",
        "Note:\n",
        "\n",
        "- The use of defaultdict data structure from the Python Standard Library collections_defaultdict.py lets the caller specify a default value up front \n",
        "- The default value will be retuned if the key is not a known dictionary key. That is, unknown words are represented by a vector of zeros.\n",
        "- For word embeddings, this default value is a vector of zeros\n",
        "- Documentation for the Python standard library:"
      ]
    },
    {
      "metadata": {
        "id": "Vk6nB3S2PRgN",
        "colab_type": "code",
        "colab": {}
      },
      "cell_type": "code",
      "source": [
        "def load_embedding_from_disks(embeddings_filename, with_indexes=True):\n",
        "    \"\"\"\n",
        "    Read a embeddings txt file. If `with_indexes=True`, \n",
        "    we return a tuple of two dictionnaries\n",
        "    `(word_to_index_dict, index_to_embedding_array)`, \n",
        "    otherwise we return only a direct \n",
        "    `word_to_embedding_dict` dictionnary mapping \n",
        "    from a string to a numpy array.\n",
        "    \"\"\"\n",
        "    if with_indexes:\n",
        "        word_to_index_dict = dict()\n",
        "        index_to_embedding_array = []\n",
        "  \n",
        "    else:\n",
        "        word_to_embedding_dict = dict()\n",
        "\n",
        "    with open(embeddings_filename, 'r', encoding='utf-8') as embeddings_file:\n",
        "        for (i, line) in enumerate(embeddings_file):\n",
        "\n",
        "            split = line.split(' ')\n",
        "\n",
        "            word = split[0]\n",
        "\n",
        "            representation = split[1:]\n",
        "            representation = np.array(\n",
        "                [float(val) for val in representation]\n",
        "            )\n",
        "\n",
        "            if with_indexes:\n",
        "                word_to_index_dict[word] = i\n",
        "                index_to_embedding_array.append(representation)\n",
        "            else:\n",
        "                word_to_embedding_dict[word] = representation\n",
        "\n",
        "    # Empty representation for unknown words.\n",
        "    _WORD_NOT_FOUND = [0.0] * len(representation)\n",
        "    if with_indexes:\n",
        "        _LAST_INDEX = i + 1\n",
        "        word_to_index_dict = defaultdict(\n",
        "            lambda: _LAST_INDEX, word_to_index_dict)\n",
        "        index_to_embedding_array = np.array(\n",
        "            index_to_embedding_array + [_WORD_NOT_FOUND])\n",
        "        return word_to_index_dict, index_to_embedding_array\n",
        "    else:\n",
        "        word_to_embedding_dict = defaultdict(lambda: _WORD_NOT_FOUND)\n",
        "        return word_to_embedding_dict"
      ],
      "execution_count": 0,
      "outputs": []
    },
    {
      "metadata": {
        "id": "Q1doO2DKk-Hs",
        "colab_type": "code",
        "colab": {}
      },
      "cell_type": "code",
      "source": [
        "embedding_file_50 = urllib.parse.urljoin(EMBEDDINGS_FOLDER, EMBEDDINGS_FILE_50)"
      ],
      "execution_count": 0,
      "outputs": []
    },
    {
      "metadata": {
        "id": "TD7sDfxSmARF",
        "colab_type": "code",
        "colab": {
          "base_uri": "https://localhost:8080/",
          "height": 34
        },
        "outputId": "2d23e91b-de7b-4cbc-f2db-a89dbdaaca63"
      },
      "cell_type": "code",
      "source": [
        "display('Loading embeddings from: {}'.format(embedding_file_50))"
      ],
      "execution_count": 66,
      "outputs": [
        {
          "output_type": "display_data",
          "data": {
            "text/plain": [
              "'Loading embeddings from: /content/drive/My Drive/datasets/movie_reviews/embeddings/gloVe.6B/glove.6B.50d.txt'"
            ]
          },
          "metadata": {
            "tags": []
          }
        }
      ]
    },
    {
      "metadata": {
        "id": "17HkA0CNmzCX",
        "colab_type": "code",
        "colab": {}
      },
      "cell_type": "code",
      "source": [
        "word_to_index, index_to_embedding = \\\n",
        "    load_embedding_from_disks(embedding_file_50, with_indexes=True)"
      ],
      "execution_count": 0,
      "outputs": []
    },
    {
      "metadata": {
        "id": "QTt2-ppWqKJt",
        "colab_type": "code",
        "colab": {
          "base_uri": "https://localhost:8080/",
          "height": 34
        },
        "outputId": "2d495056-2b92-47ef-8e76-9aa02cbaf0d8"
      },
      "cell_type": "code",
      "source": [
        "display('Loaded Word to Index: {}, Indexes: {}'.format(len(word_to_index), len(index_to_embedding)))"
      ],
      "execution_count": 70,
      "outputs": [
        {
          "output_type": "display_data",
          "data": {
            "text/plain": [
              "'Loaded Word to Index: 400000, Indexes: 400001'"
            ]
          },
          "metadata": {
            "tags": []
          }
        }
      ]
    },
    {
      "metadata": {
        "id": "PWKHnRIm1xvB",
        "colab_type": "text"
      },
      "cell_type": "markdown",
      "source": [
        "## Data Set Exploration"
      ]
    },
    {
      "metadata": {
        "id": "SHQ9t9dyuzxM",
        "colab_type": "code",
        "colab": {}
      },
      "cell_type": "code",
      "source": [
        "vocab_size, embedding_dim = index_to_embedding.shape"
      ],
      "execution_count": 0,
      "outputs": []
    },
    {
      "metadata": {
        "id": "JsCPXqU3qsRZ",
        "colab_type": "code",
        "colab": {
          "base_uri": "https://localhost:8080/",
          "height": 34
        },
        "outputId": "294838d4-d3bd-47b9-a897-6cfc98413598"
      },
      "cell_type": "code",
      "source": [
        "display(\"Embedding is of shape: {}\".format(index_to_embedding.shape))"
      ],
      "execution_count": 72,
      "outputs": [
        {
          "output_type": "display_data",
          "data": {
            "text/plain": [
              "'Embedding is of shape: (400001, 50)'"
            ]
          },
          "metadata": {
            "tags": []
          }
        }
      ]
    },
    {
      "metadata": {
        "id": "zxr-PGC0q7EC",
        "colab_type": "text"
      },
      "cell_type": "markdown",
      "source": [
        "This means (number of words, number of dimensions per word)\n",
        "The first words are words that tend occur more often.\n",
        "\n",
        "Note: \n",
        "- for unknown words, the representation is an empty vector, and the index is the last one. The dictionnary has a limit:"
      ]
    },
    {
      "metadata": {
        "id": "ab-M-wi-rKGo",
        "colab_type": "code",
        "colab": {
          "base_uri": "https://localhost:8080/",
          "height": 34
        },
        "outputId": "2dbdc4ef-14e6-4efa-a508-5ef0ce9129d1"
      },
      "cell_type": "code",
      "source": [
        "display(\"    {} --> {} --> {}\".format(\"A word\", \"Index in embedding\", \n",
        "      \"Representation\"))"
      ],
      "execution_count": 76,
      "outputs": [
        {
          "output_type": "display_data",
          "data": {
            "text/plain": [
              "'    A word --> Index in embedding --> Representation'"
            ]
          },
          "metadata": {
            "tags": []
          }
        }
      ]
    },
    {
      "metadata": {
        "id": "nhnMc9YQrP2n",
        "colab_type": "text"
      },
      "cell_type": "markdown",
      "source": [
        "### Sanity Checks of the Data"
      ]
    },
    {
      "metadata": {
        "id": "NRf8MFsFrwXd",
        "colab_type": "code",
        "colab": {}
      },
      "cell_type": "code",
      "source": [
        "def get_word_index(word):\n",
        "  idx = word_to_index[word]\n",
        "  complete_vocabulary_size = idx\n",
        "  embd = list(np.array(index_to_embedding[idx], dtype=int))\n",
        "  return idx, embd"
      ],
      "execution_count": 0,
      "outputs": []
    },
    {
      "metadata": {
        "id": "_ihE-Hsbrcw4",
        "colab_type": "text"
      },
      "cell_type": "markdown",
      "source": [
        "A word obviously not in the vocabulary:"
      ]
    },
    {
      "metadata": {
        "id": "90rPUutJrgsG",
        "colab_type": "code",
        "colab": {
          "base_uri": "https://localhost:8080/",
          "height": 54
        },
        "outputId": "5a50d927-d888-4da8-c04b-1343503d1379"
      },
      "cell_type": "code",
      "source": [
        "word = \"worsdfkljsdf\"\n",
        "\n",
        "idx, embd = get_word_index(word)\n",
        "display(\"    {} --> {} --> {}\".format(word, idx, embd))"
      ],
      "execution_count": 83,
      "outputs": [
        {
          "output_type": "display_data",
          "data": {
            "text/plain": [
              "'    worsdfkljsdf --> 400000 --> [0, 0, 0, 0, 0, 0, 0, 0, 0, 0, 0, 0, 0, 0, 0, 0, 0, 0, 0, 0, 0, 0, 0, 0, 0, 0, 0, 0, 0, 0, 0, 0, 0, 0, 0, 0, 0, 0, 0, 0, 0, 0, 0, 0, 0, 0, 0, 0, 0, 0]'"
            ]
          },
          "metadata": {
            "tags": []
          }
        }
      ]
    },
    {
      "metadata": {
        "id": "D4bkS5ASsIgn",
        "colab_type": "text"
      },
      "cell_type": "markdown",
      "source": [
        "A word that should be in the vocabulary."
      ]
    },
    {
      "metadata": {
        "id": "FqIL8NmfsN4o",
        "colab_type": "code",
        "colab": {
          "base_uri": "https://localhost:8080/",
          "height": 54
        },
        "outputId": "b1330424-cb04-42b9-cd7e-ae0606802501"
      },
      "cell_type": "code",
      "source": [
        "word = \"the\"\n",
        "\n",
        "idx, embd = get_word_index(word)\n",
        "display(\"    {} --> {} --> {}\".format(word, idx, embd))"
      ],
      "execution_count": 84,
      "outputs": [
        {
          "output_type": "display_data",
          "data": {
            "text/plain": [
              "'    the --> 0 --> [0, 0, 0, 0, 0, 0, 0, 0, 0, 0, 0, 0, 0, 0, 0, 0, 0, 0, 0, 0, 0, 0, 0, 0, 0, -1, 0, 0, 0, 0, 4, 0, 0, 0, 0, 0, 0, 0, 0, 0, 0, 0, 0, 0, 0, 0, 0, 0, 0, 0]'"
            ]
          },
          "metadata": {
            "tags": []
          }
        }
      ]
    },
    {
      "metadata": {
        "id": "ecjIzOF5dnu6",
        "colab_type": "text"
      },
      "cell_type": "markdown",
      "source": [
        "### Sentence Testing"
      ]
    },
    {
      "metadata": {
        "id": "21yam3EL-wxF",
        "colab_type": "text"
      },
      "cell_type": "markdown",
      "source": [
        "Let's test a simple sentence and <a href=\"https://en.wikipedia.org/wiki/The_quick_brown_fox_jumps_over_the_lazy_dog\">famous phrase</a>."
      ]
    },
    {
      "metadata": {
        "id": "39v2KcALtjjX",
        "colab_type": "code",
        "colab": {
          "base_uri": "https://localhost:8080/",
          "height": 34
        },
        "outputId": "1cece29d-0bfe-41af-bc27-63c6e29db172"
      },
      "cell_type": "code",
      "source": [
        "a_typing_test_sentence = 'The quick brown fox jumps over the lazy dog'\n",
        "display('Test sentence: {}'.format(a_typing_test_sentence))"
      ],
      "execution_count": 88,
      "outputs": [
        {
          "output_type": "display_data",
          "data": {
            "text/plain": [
              "'Test sentence: The quick brown fox jumps over the lazy dog'"
            ]
          },
          "metadata": {
            "tags": []
          }
        }
      ]
    },
    {
      "metadata": {
        "id": "ESk3kYa3txYy",
        "colab_type": "code",
        "colab": {
          "base_uri": "https://localhost:8080/",
          "height": 34
        },
        "outputId": "a95afa50-6e6d-4f49-87c4-7c7de431fe56"
      },
      "cell_type": "code",
      "source": [
        "words_in_test_sentence = a_typing_test_sentence.split()\n",
        "display('{}'.format(words_in_test_sentence))"
      ],
      "execution_count": 89,
      "outputs": [
        {
          "output_type": "display_data",
          "data": {
            "text/plain": [
              "\"['The', 'quick', 'brown', 'fox', 'jumps', 'over', 'the', 'lazy', 'dog']\""
            ]
          },
          "metadata": {
            "tags": []
          }
        }
      ]
    },
    {
      "metadata": {
        "id": "paPOFrpyt3Ur",
        "colab_type": "code",
        "colab": {
          "base_uri": "https://localhost:8080/",
          "height": 34
        },
        "outputId": "50554363-b795-44ea-bbdf-775a7e8a0ee0"
      },
      "cell_type": "code",
      "source": [
        "display('Test sentence embeddings from complete vocabulary of {} words.'.format(complete_vocabulary_size))"
      ],
      "execution_count": 93,
      "outputs": [
        {
          "output_type": "display_data",
          "data": {
            "text/plain": [
              "'Test sentence embeddings from complete vocabulary of 400000 words.'"
            ]
          },
          "metadata": {
            "tags": []
          }
        }
      ]
    },
    {
      "metadata": {
        "id": "T4YgTZq0uF0j",
        "colab_type": "code",
        "colab": {
          "base_uri": "https://localhost:8080/",
          "height": 1343
        },
        "outputId": "85603cad-ef21-4579-a006-56ccd3713832"
      },
      "cell_type": "code",
      "source": [
        "for word in words_in_test_sentence:\n",
        "    word_ = word.lower()\n",
        "    embedding = index_to_embedding[word_to_index[word_]]\n",
        "    print(word_ + \": \", embedding)"
      ],
      "execution_count": 94,
      "outputs": [
        {
          "output_type": "stream",
          "text": [
            "the:  [ 4.1800e-01  2.4968e-01 -4.1242e-01  1.2170e-01  3.4527e-01 -4.4457e-02\n",
            " -4.9688e-01 -1.7862e-01 -6.6023e-04 -6.5660e-01  2.7843e-01 -1.4767e-01\n",
            " -5.5677e-01  1.4658e-01 -9.5095e-03  1.1658e-02  1.0204e-01 -1.2792e-01\n",
            " -8.4430e-01 -1.2181e-01 -1.6801e-02 -3.3279e-01 -1.5520e-01 -2.3131e-01\n",
            " -1.9181e-01 -1.8823e+00 -7.6746e-01  9.9051e-02 -4.2125e-01 -1.9526e-01\n",
            "  4.0071e+00 -1.8594e-01 -5.2287e-01 -3.1681e-01  5.9213e-04  7.4449e-03\n",
            "  1.7778e-01 -1.5897e-01  1.2041e-02 -5.4223e-02 -2.9871e-01 -1.5749e-01\n",
            " -3.4758e-01 -4.5637e-02 -4.4251e-01  1.8785e-01  2.7849e-03 -1.8411e-01\n",
            " -1.1514e-01 -7.8581e-01]\n",
            "quick:  [ 0.13967   -0.53798   -0.18047   -0.25142    0.16203   -0.13868\n",
            " -0.24637    0.75111    0.27264    0.61035   -0.82548    0.038647\n",
            " -0.32361    0.30373   -0.14598   -0.23551    0.39267   -1.1287\n",
            " -0.23636   -1.0629     0.046277   0.29143   -0.25819   -0.094902\n",
            "  0.79478   -1.2095    -0.01039   -0.092086   0.84322   -0.11061\n",
            "  3.0096     0.51652   -0.76986    0.51074    0.37508    0.12156\n",
            "  0.082794   0.43605   -0.1584    -0.61048    0.35006    0.52465\n",
            " -0.51747    0.0034705  0.73625    0.16252    0.85279    0.85268\n",
            "  0.57892    0.64483  ]\n",
            "brown:  [-0.88497   0.71685  -0.40379  -0.10698   0.81457   1.0258   -1.2698\n",
            " -0.49382  -0.27839  -0.92251  -0.49409   0.78942  -0.20066  -0.057371\n",
            "  0.060682  0.30746   0.13441  -0.49376  -0.54788  -0.81912  -0.45394\n",
            "  0.52098   1.0325   -0.8584   -0.65848  -1.2736    0.23616   1.0486\n",
            "  0.18442  -0.3901    2.1385   -0.45301  -0.16911  -0.46737   0.15938\n",
            " -0.095071 -0.26512  -0.056479  0.63849  -1.0494    0.037507  0.76434\n",
            " -0.6412   -0.59594   0.46589   0.31494  -0.34072  -0.59167  -0.31057\n",
            "  0.73274 ]\n",
            "fox:  [ 0.44206   0.059552  0.15861   0.92777   0.1876    0.24256  -1.593\n",
            " -0.79847  -0.34099  -0.24021  -0.32756   0.43639  -0.11057   0.50472\n",
            "  0.43853   0.19738  -0.1498   -0.046979 -0.83286   0.39878   0.062174\n",
            "  0.28803   0.79134   0.31798  -0.21933  -1.1015   -0.080309  0.39122\n",
            "  0.19503  -0.5936    1.7921    0.3826   -0.30509  -0.58686  -0.76935\n",
            " -0.61914  -0.61771  -0.68484  -0.67919  -0.74626  -0.036646  0.78251\n",
            " -1.0072   -0.59057  -0.7849   -0.39113  -0.49727  -0.4283   -0.15204\n",
            "  1.5064  ]\n",
            "jumps:  [-0.46105   -0.34219    0.71473   -0.29778    0.28839    0.6248\n",
            "  0.36807   -0.072746   0.60476    0.31463   -0.052247  -0.62302\n",
            " -0.56332    0.7855     0.18116   -0.31698    0.38298   -0.081953\n",
            " -1.3658    -0.78263    0.39804   -0.17001   -0.11926   -0.40146\n",
            "  1.1057    -0.51142   -0.36614    0.22177    0.34626   -0.30648\n",
            "  1.3869     0.77328    0.5946     1.2577     0.23472   -0.46087\n",
            " -0.009223   0.44534    0.012732  -0.24749   -0.7142     0.02422\n",
            "  0.083527   0.25088   -0.24259   -1.354      1.5481    -0.31728\n",
            "  0.55305   -0.0028062]\n",
            "over:  [ 0.12972    0.088073   0.24375    0.078102  -0.12783    0.27831\n",
            " -0.48693    0.19649   -0.39558   -0.28362   -0.47425   -0.59317\n",
            " -0.58804   -0.31702    0.49593    0.0087594  0.039613  -0.42495\n",
            " -0.97641   -0.46534    0.020675   0.086042   0.39317   -0.51255\n",
            " -0.17913   -1.8333     0.5622     0.41626    0.075127   0.02189\n",
            "  3.784      0.71067   -0.073943   0.15373   -0.3853    -0.070163\n",
            " -0.35374    0.074501  -0.084228  -0.45548   -0.081068   0.39157\n",
            "  0.173      0.2254    -0.12836    0.40951   -0.26079    0.090912\n",
            " -0.60515   -0.9827   ]\n",
            "the:  [ 4.1800e-01  2.4968e-01 -4.1242e-01  1.2170e-01  3.4527e-01 -4.4457e-02\n",
            " -4.9688e-01 -1.7862e-01 -6.6023e-04 -6.5660e-01  2.7843e-01 -1.4767e-01\n",
            " -5.5677e-01  1.4658e-01 -9.5095e-03  1.1658e-02  1.0204e-01 -1.2792e-01\n",
            " -8.4430e-01 -1.2181e-01 -1.6801e-02 -3.3279e-01 -1.5520e-01 -2.3131e-01\n",
            " -1.9181e-01 -1.8823e+00 -7.6746e-01  9.9051e-02 -4.2125e-01 -1.9526e-01\n",
            "  4.0071e+00 -1.8594e-01 -5.2287e-01 -3.1681e-01  5.9213e-04  7.4449e-03\n",
            "  1.7778e-01 -1.5897e-01  1.2041e-02 -5.4223e-02 -2.9871e-01 -1.5749e-01\n",
            " -3.4758e-01 -4.5637e-02 -4.4251e-01  1.8785e-01  2.7849e-03 -1.8411e-01\n",
            " -1.1514e-01 -7.8581e-01]\n",
            "lazy:  [-0.27611  -0.59712  -0.49227  -1.0372   -0.35878  -0.097425 -0.21014\n",
            " -0.092836 -0.054118  0.4542   -0.53296   0.37602   0.77087   0.79669\n",
            " -0.076608 -0.42515   0.42576   0.32791  -0.21996  -0.20261  -0.85139\n",
            "  0.80547   0.97621   0.9792    1.1118   -0.36062  -0.2588    0.8596\n",
            "  0.73631  -0.18601   1.2376   -0.038938  0.19246   0.52473  -0.04842\n",
            " -0.044149  0.064432  0.087822  0.42232  -0.55991  -0.44096   0.097736\n",
            " -0.17589   1.1799    0.13152  -1.0795    0.45685  -0.63312   1.2752\n",
            "  1.1672  ]\n",
            "dog:  [ 0.11008   -0.38781   -0.57615   -0.27714    0.70521    0.53994\n",
            " -1.0786    -0.40146    1.1504    -0.5678     0.0038977  0.52878\n",
            "  0.64561    0.47262    0.48549   -0.18407    0.1801     0.91397\n",
            " -1.1979    -0.5778    -0.37985    0.33606    0.772      0.75555\n",
            "  0.45506   -1.7671    -1.0503     0.42566    0.41893   -0.68327\n",
            "  1.5673     0.27685   -0.61708    0.64638   -0.076996   0.37118\n",
            "  0.1308    -0.45137    0.25398   -0.74392   -0.086199   0.24068\n",
            " -0.64819    0.83549    1.2502    -0.51379    0.04224   -0.88118\n",
            "  0.7158     0.38519  ]\n"
          ],
          "name": "stdout"
        }
      ]
    },
    {
      "metadata": {
        "id": "o2MV3MnYrTZ4",
        "colab_type": "text"
      },
      "cell_type": "markdown",
      "source": [
        "### Vocabulary"
      ]
    },
    {
      "metadata": {
        "id": "A-Grmx6x2XOL",
        "colab_type": "text"
      },
      "cell_type": "markdown",
      "source": [
        "Define vocabulary size for the language model, to reduce the size of the vocabulary to the n most frequently used words"
      ]
    },
    {
      "metadata": {
        "id": "bzMULN5buoBG",
        "colab_type": "text"
      },
      "cell_type": "markdown",
      "source": [
        "last/unknown-word row in limited_index_to_embedding"
      ]
    },
    {
      "metadata": {
        "id": "hEFsQ0MHUQtq",
        "colab_type": "code",
        "colab": {}
      },
      "cell_type": "code",
      "source": [
        "def default_factory():\n",
        "    return EVOCABSIZE "
      ],
      "execution_count": 0,
      "outputs": []
    },
    {
      "metadata": {
        "id": "rYPsJAgzus-9",
        "colab_type": "text"
      },
      "cell_type": "markdown",
      "source": [
        "dictionary has the items() function, returns list of (key, value) tuples"
      ]
    },
    {
      "metadata": {
        "id": "SRT9eh_8uuE3",
        "colab_type": "code",
        "colab": {}
      },
      "cell_type": "code",
      "source": [
        "limited_word_to_index = defaultdict(default_factory, \\\n",
        "    {k: v for k, v in word_to_index.items() if v < EVOCABSIZE})"
      ],
      "execution_count": 0,
      "outputs": []
    },
    {
      "metadata": {
        "id": "KinUGdqtw7qB",
        "colab_type": "text"
      },
      "cell_type": "markdown",
      "source": [
        "Select the first EVOCABSIZE rows to the index_to_embedding."
      ]
    },
    {
      "metadata": {
        "id": "ZJDwNuJKuw8O",
        "colab_type": "code",
        "colab": {}
      },
      "cell_type": "code",
      "source": [
        "limited_index_to_embedding = index_to_embedding[0:EVOCABSIZE,:]"
      ],
      "execution_count": 0,
      "outputs": []
    },
    {
      "metadata": {
        "id": "iDpLBkU3w1TZ",
        "colab_type": "text"
      },
      "cell_type": "markdown",
      "source": [
        "Set the unknown-word row to be all zeros as previously."
      ]
    },
    {
      "metadata": {
        "id": "XXGdg9Zzw0Nk",
        "colab_type": "code",
        "colab": {}
      },
      "cell_type": "code",
      "source": [
        "limited_index_to_embedding = np.append(limited_index_to_embedding, \n",
        "    index_to_embedding[index_to_embedding.shape[0] - 1, :].\\\n",
        "        reshape(1,embedding_dim), \n",
        "    axis = 0)"
      ],
      "execution_count": 0,
      "outputs": []
    },
    {
      "metadata": {
        "id": "7RX8dZKxxAfv",
        "colab_type": "text"
      },
      "cell_type": "markdown",
      "source": [
        "Delete large numpy array to clear some CPU RAM."
      ]
    },
    {
      "metadata": {
        "id": "RKUAo8lAw-ZA",
        "colab_type": "code",
        "colab": {}
      },
      "cell_type": "code",
      "source": [
        "del index_to_embedding"
      ],
      "execution_count": 0,
      "outputs": []
    },
    {
      "metadata": {
        "id": "WKJcJXDuxRf-",
        "colab_type": "text"
      },
      "cell_type": "markdown",
      "source": [
        "Verify the new vocabulary: should get same embeddings for test sentence\n",
        "\n",
        "Note:\n",
        "- that a small EVOCABSIZE may yield some zero vectors for embeddings"
      ]
    },
    {
      "metadata": {
        "id": "fnlDCZOhxYn4",
        "colab_type": "code",
        "colab": {
          "base_uri": "https://localhost:8080/",
          "height": 207
        },
        "outputId": "8761affe-75ce-4b48-c63a-bde041a1d071"
      },
      "cell_type": "code",
      "source": [
        "display('\\nTest sentence embeddings from vocabulary of {} words.'.format(EVOCABSIZE))\n",
        "\n",
        "for word in words_in_test_sentence:\n",
        "    word_ = word.lower()\n",
        "    embedding = limited_index_to_embedding[limited_word_to_index[word_]]\n",
        "    display(' word: {} : embedding: {}'.format( word_, embedding))"
      ],
      "execution_count": 105,
      "outputs": [
        {
          "output_type": "display_data",
          "data": {
            "text/plain": [
              "'\\nTest sentence embeddings from vocabulary of 10000 words.'"
            ]
          },
          "metadata": {
            "tags": []
          }
        },
        {
          "output_type": "display_data",
          "data": {
            "text/plain": [
              "' word: the : embedding: [ 4.1800e-01  2.4968e-01 -4.1242e-01  1.2170e-01  3.4527e-01 -4.4457e-02\\n -4.9688e-01 -1.7862e-01 -6.6023e-04 -6.5660e-01  2.7843e-01 -1.4767e-01\\n -5.5677e-01  1.4658e-01 -9.5095e-03  1.1658e-02  1.0204e-01 -1.2792e-01\\n -8.4430e-01 -1.2181e-01 -1.6801e-02 -3.3279e-01 -1.5520e-01 -2.3131e-01\\n -1.9181e-01 -1.8823e+00 -7.6746e-01  9.9051e-02 -4.2125e-01 -1.9526e-01\\n  4.0071e+00 -1.8594e-01 -5.2287e-01 -3.1681e-01  5.9213e-04  7.4449e-03\\n  1.7778e-01 -1.5897e-01  1.2041e-02 -5.4223e-02 -2.9871e-01 -1.5749e-01\\n -3.4758e-01 -4.5637e-02 -4.4251e-01  1.8785e-01  2.7849e-03 -1.8411e-01\\n -1.1514e-01 -7.8581e-01]'"
            ]
          },
          "metadata": {
            "tags": []
          }
        },
        {
          "output_type": "display_data",
          "data": {
            "text/plain": [
              "' word: quick : embedding: [ 0.13967   -0.53798   -0.18047   -0.25142    0.16203   -0.13868\\n -0.24637    0.75111    0.27264    0.61035   -0.82548    0.038647\\n -0.32361    0.30373   -0.14598   -0.23551    0.39267   -1.1287\\n -0.23636   -1.0629     0.046277   0.29143   -0.25819   -0.094902\\n  0.79478   -1.2095    -0.01039   -0.092086   0.84322   -0.11061\\n  3.0096     0.51652   -0.76986    0.51074    0.37508    0.12156\\n  0.082794   0.43605   -0.1584    -0.61048    0.35006    0.52465\\n -0.51747    0.0034705  0.73625    0.16252    0.85279    0.85268\\n  0.57892    0.64483  ]'"
            ]
          },
          "metadata": {
            "tags": []
          }
        },
        {
          "output_type": "display_data",
          "data": {
            "text/plain": [
              "' word: brown : embedding: [-0.88497   0.71685  -0.40379  -0.10698   0.81457   1.0258   -1.2698\\n -0.49382  -0.27839  -0.92251  -0.49409   0.78942  -0.20066  -0.057371\\n  0.060682  0.30746   0.13441  -0.49376  -0.54788  -0.81912  -0.45394\\n  0.52098   1.0325   -0.8584   -0.65848  -1.2736    0.23616   1.0486\\n  0.18442  -0.3901    2.1385   -0.45301  -0.16911  -0.46737   0.15938\\n -0.095071 -0.26512  -0.056479  0.63849  -1.0494    0.037507  0.76434\\n -0.6412   -0.59594   0.46589   0.31494  -0.34072  -0.59167  -0.31057\\n  0.73274 ]'"
            ]
          },
          "metadata": {
            "tags": []
          }
        },
        {
          "output_type": "display_data",
          "data": {
            "text/plain": [
              "' word: fox : embedding: [ 0.44206   0.059552  0.15861   0.92777   0.1876    0.24256  -1.593\\n -0.79847  -0.34099  -0.24021  -0.32756   0.43639  -0.11057   0.50472\\n  0.43853   0.19738  -0.1498   -0.046979 -0.83286   0.39878   0.062174\\n  0.28803   0.79134   0.31798  -0.21933  -1.1015   -0.080309  0.39122\\n  0.19503  -0.5936    1.7921    0.3826   -0.30509  -0.58686  -0.76935\\n -0.61914  -0.61771  -0.68484  -0.67919  -0.74626  -0.036646  0.78251\\n -1.0072   -0.59057  -0.7849   -0.39113  -0.49727  -0.4283   -0.15204\\n  1.5064  ]'"
            ]
          },
          "metadata": {
            "tags": []
          }
        },
        {
          "output_type": "display_data",
          "data": {
            "text/plain": [
              "' word: jumps : embedding: [0. 0. 0. 0. 0. 0. 0. 0. 0. 0. 0. 0. 0. 0. 0. 0. 0. 0. 0. 0. 0. 0. 0. 0.\\n 0. 0. 0. 0. 0. 0. 0. 0. 0. 0. 0. 0. 0. 0. 0. 0. 0. 0. 0. 0. 0. 0. 0. 0.\\n 0. 0.]'"
            ]
          },
          "metadata": {
            "tags": []
          }
        },
        {
          "output_type": "display_data",
          "data": {
            "text/plain": [
              "' word: over : embedding: [ 0.12972    0.088073   0.24375    0.078102  -0.12783    0.27831\\n -0.48693    0.19649   -0.39558   -0.28362   -0.47425   -0.59317\\n -0.58804   -0.31702    0.49593    0.0087594  0.039613  -0.42495\\n -0.97641   -0.46534    0.020675   0.086042   0.39317   -0.51255\\n -0.17913   -1.8333     0.5622     0.41626    0.075127   0.02189\\n  3.784      0.71067   -0.073943   0.15373   -0.3853    -0.070163\\n -0.35374    0.074501  -0.084228  -0.45548   -0.081068   0.39157\\n  0.173      0.2254    -0.12836    0.40951   -0.26079    0.090912\\n -0.60515   -0.9827   ]'"
            ]
          },
          "metadata": {
            "tags": []
          }
        },
        {
          "output_type": "display_data",
          "data": {
            "text/plain": [
              "' word: the : embedding: [ 4.1800e-01  2.4968e-01 -4.1242e-01  1.2170e-01  3.4527e-01 -4.4457e-02\\n -4.9688e-01 -1.7862e-01 -6.6023e-04 -6.5660e-01  2.7843e-01 -1.4767e-01\\n -5.5677e-01  1.4658e-01 -9.5095e-03  1.1658e-02  1.0204e-01 -1.2792e-01\\n -8.4430e-01 -1.2181e-01 -1.6801e-02 -3.3279e-01 -1.5520e-01 -2.3131e-01\\n -1.9181e-01 -1.8823e+00 -7.6746e-01  9.9051e-02 -4.2125e-01 -1.9526e-01\\n  4.0071e+00 -1.8594e-01 -5.2287e-01 -3.1681e-01  5.9213e-04  7.4449e-03\\n  1.7778e-01 -1.5897e-01  1.2041e-02 -5.4223e-02 -2.9871e-01 -1.5749e-01\\n -3.4758e-01 -4.5637e-02 -4.4251e-01  1.8785e-01  2.7849e-03 -1.8411e-01\\n -1.1514e-01 -7.8581e-01]'"
            ]
          },
          "metadata": {
            "tags": []
          }
        },
        {
          "output_type": "display_data",
          "data": {
            "text/plain": [
              "' word: lazy : embedding: [0. 0. 0. 0. 0. 0. 0. 0. 0. 0. 0. 0. 0. 0. 0. 0. 0. 0. 0. 0. 0. 0. 0. 0.\\n 0. 0. 0. 0. 0. 0. 0. 0. 0. 0. 0. 0. 0. 0. 0. 0. 0. 0. 0. 0. 0. 0. 0. 0.\\n 0. 0.]'"
            ]
          },
          "metadata": {
            "tags": []
          }
        },
        {
          "output_type": "display_data",
          "data": {
            "text/plain": [
              "' word: dog : embedding: [ 0.11008   -0.38781   -0.57615   -0.27714    0.70521    0.53994\\n -1.0786    -0.40146    1.1504    -0.5678     0.0038977  0.52878\\n  0.64561    0.47262    0.48549   -0.18407    0.1801     0.91397\\n -1.1979    -0.5778    -0.37985    0.33606    0.772      0.75555\\n  0.45506   -1.7671    -1.0503     0.42566    0.41893   -0.68327\\n  1.5673     0.27685   -0.61708    0.64638   -0.076996   0.37118\\n  0.1308    -0.45137    0.25398   -0.74392   -0.086199   0.24068\\n -0.64819    0.83549    1.2502    -0.51379    0.04224   -0.88118\\n  0.7158     0.38519  ]'"
            ]
          },
          "metadata": {
            "tags": []
          }
        }
      ]
    },
    {
      "metadata": {
        "id": "GMUqgfEWreWA",
        "colab_type": "text"
      },
      "cell_type": "markdown",
      "source": [
        "### Enhance Dataset with Stopwords"
      ]
    },
    {
      "metadata": {
        "id": "RHu6UDNaz2pp",
        "colab_type": "code",
        "colab": {}
      },
      "cell_type": "code",
      "source": [
        "import nltk\n",
        "from nltk.tokenize import TreebankWordTokenizer"
      ],
      "execution_count": 0,
      "outputs": []
    },
    {
      "metadata": {
        "id": "EmqKVZt50Dps",
        "colab_type": "code",
        "colab": {
          "base_uri": "https://localhost:8080/",
          "height": 68
        },
        "outputId": "07bf1ea9-f027-4067-fe25-d5dd1167cd58"
      },
      "cell_type": "code",
      "source": [
        "nltk.download('stopwords')"
      ],
      "execution_count": 121,
      "outputs": [
        {
          "output_type": "stream",
          "text": [
            "[nltk_data] Downloading package stopwords to /root/nltk_data...\n",
            "[nltk_data]   Package stopwords is already up-to-date!\n"
          ],
          "name": "stdout"
        },
        {
          "output_type": "execute_result",
          "data": {
            "text/plain": [
              "True"
            ]
          },
          "metadata": {
            "tags": []
          },
          "execution_count": 121
        }
      ]
    },
    {
      "metadata": {
        "id": "kv8YY9rFyHSm",
        "colab_type": "text"
      },
      "cell_type": "markdown",
      "source": [
        "define list of codes to be dropped from document\n",
        "- carriage-returns\n",
        "- line-feeds\n",
        "- tabs"
      ]
    },
    {
      "metadata": {
        "id": "j1qlLgJ4yMY8",
        "colab_type": "code",
        "colab": {}
      },
      "cell_type": "code",
      "source": [
        "codelist = ['\\r', '\\n', '\\t']"
      ],
      "execution_count": 0,
      "outputs": []
    },
    {
      "metadata": {
        "id": "aY3ZGh7PzRRX",
        "colab_type": "text"
      },
      "cell_type": "markdown",
      "source": [
        "We will not remove stopwords in this exercise because they are important to keeping sentences intact"
      ]
    },
    {
      "metadata": {
        "id": "gYo6zkchzQe4",
        "colab_type": "code",
        "colab": {}
      },
      "cell_type": "code",
      "source": [
        "if REMOVE_STOPWORDS:\n",
        "    print(nltk.corpus.stopwords.words('english'))"
      ],
      "execution_count": 0,
      "outputs": []
    },
    {
      "metadata": {
        "id": "zZAU-fFQzW0K",
        "colab_type": "text"
      },
      "cell_type": "markdown",
      "source": [
        "Previous analysis of a list of top terms showed a number of words, along with contractions and other word strings to drop from further analysis, add these to the usual English stopwords to be dropped from a document collection."
      ]
    },
    {
      "metadata": {
        "id": "1xH361EkzVT3",
        "colab_type": "code",
        "colab": {}
      },
      "cell_type": "code",
      "source": [
        "more_stop_words = ['cant','didnt','doesnt','dont','goes','isnt','hes',\\\n",
        "        'shes','thats','theres','theyre','wont','youll','youre','youve', 'br'\\\n",
        "        've', 're', 'vs'] "
      ],
      "execution_count": 0,
      "outputs": []
    },
    {
      "metadata": {
        "id": "OurHQOBkzn9F",
        "colab_type": "code",
        "colab": {}
      },
      "cell_type": "code",
      "source": [
        "some_proper_nouns_to_remove = ['dick','ginger','hollywood','jack',\\\n",
        "        'jill','john','karloff','kudrow','orson','peter','tcm','tom',\\\n",
        "        'toni','welles','william','wolheim','nikita']"
      ],
      "execution_count": 0,
      "outputs": []
    },
    {
      "metadata": {
        "id": "nIZZjIxBztJh",
        "colab_type": "text"
      },
      "cell_type": "markdown",
      "source": [
        "Start with the initial list and add to it for movie text work."
      ]
    },
    {
      "metadata": {
        "id": "nHiUX60PzrGk",
        "colab_type": "code",
        "colab": {}
      },
      "cell_type": "code",
      "source": [
        "stoplist = nltk.corpus.stopwords.words('english') + more_stop_words +\\\n",
        "        some_proper_nouns_to_remove"
      ],
      "execution_count": 0,
      "outputs": []
    },
    {
      "metadata": {
        "id": "Cwc_8aUY0PsO",
        "colab_type": "text"
      },
      "cell_type": "markdown",
      "source": [
        "# Text Parsing"
      ]
    },
    {
      "metadata": {
        "id": "QSOJDxqa-EOc",
        "colab_type": "text"
      },
      "cell_type": "markdown",
      "source": [
        "Utility function to get file names within a directory."
      ]
    },
    {
      "metadata": {
        "id": "_B1Gy1DvzqqF",
        "colab_type": "code",
        "colab": {}
      },
      "cell_type": "code",
      "source": [
        "def listdir_no_hidden(path):\n",
        "    start_list = os.listdir(path)\n",
        "    end_list = []\n",
        "    for file in start_list:\n",
        "        if (not file.startswith('.')):\n",
        "            end_list.append(file)\n",
        "    return(end_list)"
      ],
      "execution_count": 0,
      "outputs": []
    },
    {
      "metadata": {
        "id": "8A-uQF_60Wv2",
        "colab_type": "text"
      },
      "cell_type": "markdown",
      "source": [
        "Text parsing function for creating text documents, there is more we could do for data preparation:\n",
        "- stemming\n",
        "- looking for contractions\n",
        "- possessives... \n",
        "\n",
        "but we will work with what we have in this parsing function.Iif we want to do stemming at a later time, we can use\n",
        "**porter = nltk.PorterStemmer()**\n",
        "\n",
        "in a construction like this:\n",
        "\n",
        "**words_stemmed =  [porter.stem(word) for word in initial_words]  **"
      ]
    },
    {
      "metadata": {
        "id": "wo6z9pHv0ToM",
        "colab_type": "code",
        "colab": {}
      },
      "cell_type": "code",
      "source": [
        "def text_parse(string):\n",
        "    # replace non-alphanumeric with space \n",
        "    temp_string = re.sub('[^a-zA-Z]', '  ', string)    \n",
        "    # replace codes with space\n",
        "    for i in range(len(codelist)):\n",
        "        stopstring = ' ' + codelist[i] + '  '\n",
        "        temp_string = re.sub(stopstring, '  ', temp_string)      \n",
        "    # replace single-character words with space\n",
        "    temp_string = re.sub('\\s.\\s', ' ', temp_string)   \n",
        "    # convert uppercase to lowercase\n",
        "    temp_string = temp_string.lower()    \n",
        "    if REMOVE_STOPWORDS:\n",
        "        # replace selected character strings/stop-words with space\n",
        "        for i in range(len(stoplist)):\n",
        "            stopstring = ' ' + str(stoplist[i]) + ' '\n",
        "            temp_string = re.sub(stopstring, ' ', temp_string)        \n",
        "    # replace multiple blank characters with one blank character\n",
        "    temp_string = re.sub('\\s+', ' ', temp_string)    \n",
        "    return(temp_string)"
      ],
      "execution_count": 0,
      "outputs": []
    },
    {
      "metadata": {
        "id": "gQTXm1Us-NXT",
        "colab_type": "text"
      },
      "cell_type": "markdown",
      "source": [
        "# Deep Classification Model"
      ]
    },
    {
      "metadata": {
        "id": "13U3onaqruYs",
        "colab_type": "text"
      },
      "cell_type": "markdown",
      "source": [
        "## Model Variables"
      ]
    },
    {
      "metadata": {
        "id": "x6mGIej4vUlN",
        "colab_type": "text"
      },
      "cell_type": "markdown",
      "source": [
        "Model Learning Rate"
      ]
    },
    {
      "metadata": {
        "id": "fC1O9cNgvTwo",
        "colab_type": "code",
        "colab": {}
      },
      "cell_type": "code",
      "source": [
        "LR = 1e-3"
      ],
      "execution_count": 0,
      "outputs": []
    },
    {
      "metadata": {
        "id": "lvJgXGSGw4w9",
        "colab_type": "text"
      },
      "cell_type": "markdown",
      "source": [
        "Model Name"
      ]
    },
    {
      "metadata": {
        "id": "i4UbCrXkw1YC",
        "colab_type": "code",
        "colab": {}
      },
      "cell_type": "code",
      "source": [
        "MODEL_NAME = 'dogsvscats-{}-{}.model'.format(LR, '2conv-basic')"
      ],
      "execution_count": 0,
      "outputs": []
    },
    {
      "metadata": {
        "id": "MBUMvQcnvm-o",
        "colab_type": "text"
      },
      "cell_type": "markdown",
      "source": [
        "## TensorFlow"
      ]
    },
    {
      "metadata": {
        "id": "cTVyX58QuuCA",
        "colab_type": "code",
        "outputId": "f861d2c2-bcb6-4346-c258-b12d77af9362",
        "colab": {
          "base_uri": "https://localhost:8080/",
          "height": 102
        }
      },
      "cell_type": "code",
      "source": [
        "!pip install tflearn"
      ],
      "execution_count": 0,
      "outputs": [
        {
          "output_type": "stream",
          "text": [
            "Requirement already satisfied: tflearn in /usr/local/lib/python3.6/dist-packages (0.3.2)\n",
            "Requirement already satisfied: Pillow in /usr/local/lib/python3.6/dist-packages (from tflearn) (4.0.0)\n",
            "Requirement already satisfied: six in /usr/local/lib/python3.6/dist-packages (from tflearn) (1.11.0)\n",
            "Requirement already satisfied: numpy in /usr/local/lib/python3.6/dist-packages (from tflearn) (1.14.6)\n",
            "Requirement already satisfied: olefile in /usr/local/lib/python3.6/dist-packages (from Pillow->tflearn) (0.46)\n"
          ],
          "name": "stdout"
        }
      ]
    },
    {
      "metadata": {
        "id": "8AEV640LQiEY",
        "colab_type": "code",
        "colab": {}
      },
      "cell_type": "code",
      "source": [
        "import tflearn\n",
        "from tflearn.layers.conv import conv_2d, max_pool_2d\n",
        "from tflearn.layers.core import input_data, dropout, fully_connected\n",
        "from tflearn.layers.estimator import regression"
      ],
      "execution_count": 0,
      "outputs": []
    },
    {
      "metadata": {
        "id": "pMn72U0zv2uI",
        "colab_type": "text"
      },
      "cell_type": "markdown",
      "source": [
        "## Model Versions"
      ]
    },
    {
      "metadata": {
        "id": "c1YjFKFeIGwz",
        "colab_type": "code",
        "colab": {}
      },
      "cell_type": "code",
      "source": [
        "def get_model_baseline():\n",
        "  convnet = input_data(shape=[None, IMG_WIDTH, IMG_HEIGHT, 1], name='input')\n",
        "\n",
        "  convnet = conv_2d(convnet, 32, 5, activation='relu')\n",
        "  convnet = max_pool_2d(convnet, 5)\n",
        "\n",
        "  convnet = conv_2d(convnet, 64, 5, activation='relu')\n",
        "  convnet = max_pool_2d(convnet, 5)\n",
        "\n",
        "  convnet = fully_connected(convnet, 1024, activation='relu')\n",
        "  convnet = dropout(convnet, 0.8)\n",
        "\n",
        "  convnet = fully_connected(convnet, 2, activation='softmax')\n",
        "  convnet = regression(convnet, optimizer='adam', learning_rate=LR, loss='categorical_crossentropy', name='targets')\n",
        "\n",
        "  return tflearn.DNN(convnet, tensorboard_dir='log')"
      ],
      "execution_count": 0,
      "outputs": []
    },
    {
      "metadata": {
        "id": "YqEDOEdSuxVF",
        "colab_type": "code",
        "colab": {}
      },
      "cell_type": "code",
      "source": [
        "def get_model_v2():\n",
        "  convnet = input_data(shape=[None, IMG_WIDTH, IMG_HEIGHT, 1], name='input')\n",
        "\n",
        "  convnet = conv_2d(convnet, 32, 5, activation='relu')\n",
        "  convnet = max_pool_2d(convnet, 5)\n",
        "\n",
        "  convnet = conv_2d(convnet, 64, 5, activation='relu')\n",
        "  convnet = max_pool_2d(convnet, 5)\n",
        "\n",
        "  convnet = conv_2d(convnet, 128, 5, activation='relu')\n",
        "  convnet = max_pool_2d(convnet, 5)\n",
        "\n",
        "  convnet = conv_2d(convnet, 64, 5, activation='relu')\n",
        "  convnet = max_pool_2d(convnet, 5)\n",
        "\n",
        "  convnet = conv_2d(convnet, 32, 5, activation='relu')\n",
        "  convnet = max_pool_2d(convnet, 5)\n",
        "\n",
        "  convnet = fully_connected(convnet, 1024, activation='relu')\n",
        "  convnet = dropout(convnet, 0.8)\n",
        "\n",
        "  convnet = fully_connected(convnet, 2, activation='softmax')\n",
        "  convnet = regression(convnet, optimizer='adam', learning_rate=LR, loss='categorical_crossentropy', name='targets')\n",
        "\n",
        "  return tflearn.DNN(convnet, tensorboard_dir='log')"
      ],
      "execution_count": 0,
      "outputs": []
    },
    {
      "metadata": {
        "id": "7cz4Jvx5waCZ",
        "colab_type": "text"
      },
      "cell_type": "markdown",
      "source": [
        "### Model Fit"
      ]
    },
    {
      "metadata": {
        "id": "xYJrhzT52zC5",
        "colab_type": "code",
        "outputId": "cabb125d-af04-419a-d46e-565abda0accb",
        "colab": {
          "base_uri": "https://localhost:8080/",
          "height": 34
        }
      },
      "cell_type": "code",
      "source": [
        "display('Train Size: {}'.format(len(X_train)))"
      ],
      "execution_count": 0,
      "outputs": [
        {
          "output_type": "display_data",
          "data": {
            "text/plain": [
              "'Train Size: 20000'"
            ]
          },
          "metadata": {
            "tags": []
          }
        }
      ]
    },
    {
      "metadata": {
        "id": "2l12sbju8mdC",
        "colab_type": "text"
      },
      "cell_type": "markdown",
      "source": [
        "Reset graph to default state & train on selected data set."
      ]
    },
    {
      "metadata": {
        "id": "3HXVTfvyIYYG",
        "colab_type": "code",
        "outputId": "b827b3dd-9b90-44fd-a5e6-bc5bad15496e",
        "colab": {
          "base_uri": "https://localhost:8080/",
          "height": 102
        }
      },
      "cell_type": "code",
      "source": [
        "reset_graph()\n",
        "\n",
        "model_baseline = get_model_baseline()\n",
        "\n",
        "start_time = time.clock()\n",
        "\n",
        "model_baseline.fit({'input': X_train}, {'targets': y_train}, n_epoch=3, validation_set=({'input': X_test}, {'targets': y_test}), \n",
        "    snapshot_step=500, show_metric=True, run_id=MODEL_NAME)\n",
        "\n",
        "end_time = time.clock()\n",
        "\n",
        "runtime = end_time - start_time  # seconds of wall-clock time "
      ],
      "execution_count": 0,
      "outputs": [
        {
          "output_type": "stream",
          "text": [
            "Training Step: 938  | total loss: \u001b[1m\u001b[32m11.70753\u001b[0m\u001b[0m | time: 276.133s\n",
            "| Adam | epoch: 003 | loss: 11.70753 - acc: 0.4915 -- iter: 19968/20000\n",
            "Training Step: 939  | total loss: \u001b[1m\u001b[32m11.58014\u001b[0m\u001b[0m | time: 302.967s\n",
            "| Adam | epoch: 003 | loss: 11.58014 - acc: 0.4971 | val_loss: 11.69253 - val_acc: 0.4922 -- iter: 20000/20000\n",
            "--\n"
          ],
          "name": "stdout"
        }
      ]
    },
    {
      "metadata": {
        "id": "b-TJzvzZzarl",
        "colab_type": "code",
        "outputId": "d1e3f74f-87ff-4559-f174-cf53cabca374",
        "colab": {
          "base_uri": "https://localhost:8080/",
          "height": 34
        }
      },
      "cell_type": "code",
      "source": [
        "display('Model Train Time: {} minutes'.format(round(runtime / 100, 2)))"
      ],
      "execution_count": 0,
      "outputs": [
        {
          "output_type": "display_data",
          "data": {
            "text/plain": [
              "'Model Train Time: 17.95 minutes'"
            ]
          },
          "metadata": {
            "tags": []
          }
        }
      ]
    },
    {
      "metadata": {
        "id": "GH2yAxq_80ow",
        "colab_type": "text"
      },
      "cell_type": "markdown",
      "source": [
        "Reset graph to default state & train on selected data set."
      ]
    },
    {
      "metadata": {
        "id": "O0Bnwk4twb8M",
        "colab_type": "code",
        "outputId": "7a524902-c07e-4472-91ec-96856ae99d55",
        "colab": {
          "base_uri": "https://localhost:8080/",
          "height": 102
        }
      },
      "cell_type": "code",
      "source": [
        "reset_graph()\n",
        "\n",
        "model_v2 = get_model_v2()\n",
        "\n",
        "start_time = time.clock()\n",
        "\n",
        "model_v2.fit({'input': X_train}, {'targets': y_train}, n_epoch=3, validation_set=({'input': X_test}, {'targets': y_test}), \n",
        "    snapshot_step=500, show_metric=True, run_id=MODEL_NAME)\n",
        "\n",
        "end_time = time.clock()\n",
        "\n",
        "runtime = end_time - start_time  # seconds of wall-clock time "
      ],
      "execution_count": 0,
      "outputs": [
        {
          "output_type": "stream",
          "text": [
            "Training Step: 938  | total loss: \u001b[1m\u001b[32m0.41723\u001b[0m\u001b[0m | time: 295.821s\n",
            "| Adam | epoch: 003 | loss: 0.41723 - acc: 0.8065 -- iter: 19968/20000\n",
            "Training Step: 939  | total loss: \u001b[1m\u001b[32m0.42124\u001b[0m\u001b[0m | time: 321.158s\n",
            "| Adam | epoch: 003 | loss: 0.42124 - acc: 0.8071 | val_loss: 0.46501 - val_acc: 0.7828 -- iter: 20000/20000\n",
            "--\n"
          ],
          "name": "stdout"
        }
      ]
    },
    {
      "metadata": {
        "id": "whOY5CrYrLiA",
        "colab_type": "code",
        "outputId": "11852851-28a2-4f66-c621-c1e55171a45c",
        "colab": {
          "base_uri": "https://localhost:8080/",
          "height": 34
        }
      },
      "cell_type": "code",
      "source": [
        "display('Model Train Time: {} minutes'.format(round(runtime / 100, 2)))"
      ],
      "execution_count": 0,
      "outputs": [
        {
          "output_type": "display_data",
          "data": {
            "text/plain": [
              "'Model Train Time: 18.94 minutes'"
            ]
          },
          "metadata": {
            "tags": []
          }
        }
      ]
    },
    {
      "metadata": {
        "id": "vlDYER8P0RRG",
        "colab_type": "text"
      },
      "cell_type": "markdown",
      "source": [
        "# Validation"
      ]
    },
    {
      "metadata": {
        "id": "piZ4ofeH0yRz",
        "colab_type": "text"
      },
      "cell_type": "markdown",
      "source": [
        "Load our testing data."
      ]
    },
    {
      "metadata": {
        "id": "--RqucbW0XUn",
        "colab_type": "code",
        "outputId": "765c37c9-10f7-4dc0-9695-d4f5d0350a1d",
        "colab": {
          "base_uri": "https://localhost:8080/",
          "height": 34
        }
      },
      "cell_type": "code",
      "source": [
        "test_data = []\n",
        "\n",
        "with zipfile.ZipFile('/content/drive/My Drive/datasets/cats_vs_dogs/test1.zip', 'r') as z:\n",
        "  for fn in tqdm(z.namelist()):\n",
        "    if not os.path.isdir(fn) and fn.endswith(\"jpg\"):\n",
        "      label = label_img(fn)\n",
        "\n",
        "      img_str = z.read(fn)\n",
        "\n",
        "      nparr = np.frombuffer(img_str, np.uint8)\n",
        "\n",
        "      img_np = cv2.imdecode(nparr, cv2.IMREAD_GRAYSCALE)\n",
        "      img = cv2.resize(img_np, (IMG_WIDTH, IMG_HEIGHT))\n",
        "\n",
        "      test_data.append([ np.array(img), np.array(label)])"
      ],
      "execution_count": 0,
      "outputs": [
        {
          "output_type": "stream",
          "text": [
            "100%|██████████| 12501/12501 [00:16<00:00, 754.70it/s]\n"
          ],
          "name": "stderr"
        }
      ]
    },
    {
      "metadata": {
        "id": "zj0GmU1z1ISH",
        "colab_type": "text"
      },
      "cell_type": "markdown",
      "source": [
        "Run our model against some test data."
      ]
    },
    {
      "metadata": {
        "id": "uR6gM_GWI35g",
        "colab_type": "text"
      },
      "cell_type": "markdown",
      "source": [
        "## Visual Inspection"
      ]
    },
    {
      "metadata": {
        "id": "mmpxqUQ10SrC",
        "colab_type": "code",
        "colab": {}
      },
      "cell_type": "code",
      "source": [
        "import matplotlib.pyplot as plt\n",
        "\n",
        "def visual_inspect_model( model ):\n",
        "  fig=plt.figure(figsize=(5,5))\n",
        "  fig.subplots_adjust(hspace=0.5, wspace=1.3)\n",
        "\n",
        "  for num,data in enumerate(test_data[:12]):\n",
        "\n",
        "      img_num = data[1]\n",
        "      img_data = data[0]\n",
        "\n",
        "      y = fig.add_subplot(4,3,num+1)\n",
        "      orig = img_data\n",
        "      data = img_data.reshape(IMG_WIDTH,IMG_HEIGHT,1)\n",
        "\n",
        "      model_out = model.predict([data])[0]\n",
        "\n",
        "      if np.argmax(model_out) == 1: str_label='Dog'\n",
        "      else: str_label='Cat'\n",
        "\n",
        "      y.imshow(orig,cmap='gray')\n",
        "      plt.title(str_label)\n",
        "      y.axes.get_xaxis().set_visible(False)\n",
        "      y.axes.get_yaxis().set_visible(False)\n",
        "\n",
        "  plt.show()"
      ],
      "execution_count": 0,
      "outputs": []
    },
    {
      "metadata": {
        "id": "Zo689GP3I6LE",
        "colab_type": "code",
        "outputId": "3371c38d-18df-4097-ab60-9a4491af9117",
        "colab": {
          "base_uri": "https://localhost:8080/",
          "height": 326
        }
      },
      "cell_type": "code",
      "source": [
        "visual_inspect_model(model_baseline)"
      ],
      "execution_count": 0,
      "outputs": [
        {
          "output_type": "display_data",
          "data": {
            "image/png": "[encoded data removed]",
            "text/plain": [
              "<matplotlib.figure.Figure at 0x7f17087406d8>"
            ]
          },
          "metadata": {
            "tags": []
          }
        }
      ]
    },
    {
      "metadata": {
        "id": "jrSRBfHBI6Pu",
        "colab_type": "code",
        "outputId": "cafcc0f5-d8ff-453f-c4ae-33455ac89e09",
        "colab": {
          "base_uri": "https://localhost:8080/",
          "height": 326
        }
      },
      "cell_type": "code",
      "source": [
        "visual_inspect_model(model_v2)"
      ],
      "execution_count": 0,
      "outputs": [
        {
          "output_type": "display_data",
          "data": {
            "image/png": "[encoded data removed]",
            "text/plain": [
              "<matplotlib.figure.Figure at 0x7f1708740a90>"
            ]
          },
          "metadata": {
            "tags": []
          }
        }
      ]
    },
    {
      "metadata": {
        "id": "un6KzneG4XBg",
        "colab_type": "text"
      },
      "cell_type": "markdown",
      "source": [
        "## Test Data Summary"
      ]
    },
    {
      "metadata": {
        "id": "BhmwQMFt0cWL",
        "colab_type": "code",
        "colab": {}
      },
      "cell_type": "code",
      "source": [
        "def validate_model(model):\n",
        "  total = len(X_test)\n",
        "  correct = 0\n",
        "\n",
        "  for num, data in enumerate(X_test):\n",
        "    y_pred = model.predict([data])[0]\n",
        "\n",
        "    if np.argmax(y_pred) == 1: img_pred='Dog'\n",
        "    else: img_pred='Cat'\n",
        "\n",
        "    if np.array_equal(y_test[num], [1, 0]): img_actual = 'Cat'\n",
        "    elif np.array_equal(y_test[num], [0, 1]): img_actual = 'Dog'\n",
        "\n",
        "    if img_actual == img_pred:\n",
        "      correct = correct + 1\n",
        "\n",
        "  display('Total Test Images: {}, Correctly Predicted: {}, {:.2%}'.format(total, correct, correct / total))"
      ],
      "execution_count": 0,
      "outputs": []
    },
    {
      "metadata": {
        "id": "qzfypRGl2w9U",
        "colab_type": "code",
        "outputId": "98cc53ca-b378-4eb5-b003-c4c500314906",
        "colab": {
          "base_uri": "https://localhost:8080/",
          "height": 34
        }
      },
      "cell_type": "code",
      "source": [
        "validate_model(model_baseline)"
      ],
      "execution_count": 0,
      "outputs": [
        {
          "output_type": "display_data",
          "data": {
            "text/plain": [
              "'Total Test Images: 5000, Correctly Predicted: 2461, 49.22%'"
            ]
          },
          "metadata": {
            "tags": []
          }
        }
      ]
    },
    {
      "metadata": {
        "id": "J6MS2rhPIuPR",
        "colab_type": "code",
        "outputId": "ba247fe0-c2ca-4504-8725-6bcc5ff0a607",
        "colab": {
          "base_uri": "https://localhost:8080/",
          "height": 34
        }
      },
      "cell_type": "code",
      "source": [
        "validate_model(model_v2)"
      ],
      "execution_count": 0,
      "outputs": [
        {
          "output_type": "display_data",
          "data": {
            "text/plain": [
              "'Total Test Images: 5000, Correctly Predicted: 3914, 78.28%'"
            ]
          },
          "metadata": {
            "tags": []
          }
        }
      ]
    }
  ]
}